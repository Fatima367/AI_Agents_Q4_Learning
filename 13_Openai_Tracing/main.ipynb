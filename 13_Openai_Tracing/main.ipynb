{
 "cells": [
  {
   "cell_type": "code",
   "execution_count": 1,
   "id": "f9563e86",
   "metadata": {},
   "outputs": [],
   "source": [
    "import nest_asyncio\n",
    "nest_asyncio.apply()"
   ]
  },
  {
   "cell_type": "code",
   "execution_count": 2,
   "id": "34dc7c0d",
   "metadata": {},
   "outputs": [
    {
     "name": "stdout",
     "output_type": "stream",
     "text": [
      "====================================================================================================\n",
      "\n",
      "Response:\n",
      "1.  Your current location is Karachi.\n",
      "2.  BREAKING NEWS!! 14TH AUGUST AFTER 19 DAYS!!!\n",
      "3.  Photosynthesis is how plants use sunlight, water, and carbon dioxide to create their own food (sugars) and oxygen.\n",
      "\n",
      "\n",
      "Responded by: Plants Info Agent\n",
      "\n"
     ]
    }
   ],
   "source": [
    "import os\n",
    "import asyncio\n",
    "from dotenv import load_dotenv\n",
    "from agents import Agent, Runner, AsyncOpenAI, OpenAIChatCompletionsModel, RunConfig\n",
    "from agents import function_tool\n",
    "\n",
    "load_dotenv()\n",
    "\n",
    "openai_api_key = os.getenv(\"OPENAI_API_KEY\")\n",
    "\n",
    "gemini_api_key = os.getenv(\"GEMINI_API_KEY\")\n",
    "\n",
    "if not gemini_api_key:\n",
    "    raise ValueError(\"GEMINI_API_KEY is not set. Please ensure it is defined in your .env file.\")\n",
    "\n",
    "provider = AsyncOpenAI(\n",
    "    api_key= gemini_api_key,\n",
    "    base_url= \"https://generativelanguage.googleapis.com/v1beta/openai/\"\n",
    ")\n",
    "\n",
    "model = OpenAIChatCompletionsModel(\n",
    "    model= \"gemini-2.0-flash\",\n",
    "    openai_client= provider\n",
    ")\n",
    "\n",
    "config = RunConfig(\n",
    "    model=  model,\n",
    "    model_provider= provider,\n",
    ")\n",
    "\n",
    "\n",
    "@function_tool\n",
    "def get_location():\n",
    "    \"\"\"Gets the location of a user\"\"\"\n",
    "    return \"Your current location is Karachi\"\n",
    "\n",
    "\n",
    "@function_tool\n",
    "def get_breaking_news():\n",
    "    \"\"\"Gets breaking news\"\"\"\n",
    "    return \"BREAKING NEWS!! 14TH AUGUST AFTER 19 DAYS!!!\"\n",
    "\n",
    "\n",
    "plant_agent= Agent(\n",
    "    name= \"Plants Info Agent\",\n",
    "    instructions= \"You only tell plants and their related topics briefly\",\n",
    "    handoff_description= \"Tells about plants and their related topics briefly\"\n",
    ")\n",
    "\n",
    "async def main():\n",
    "    agent = Agent(\n",
    "    name= \"Assistant\",\n",
    "    instructions= \"\"\"\n",
    "    You are a helpful assistant. \n",
    "    - You have to use tools or handsoff to appropriate agent to solve user queries. \n",
    "    - Donot answer on your own make sure to use relevant tools or agents to respond accurately.\n",
    "    \"\"\",\n",
    "    tools= [get_location, get_breaking_news],\n",
    "    handoffs= [plant_agent]\n",
    "    )\n",
    "\n",
    "    result = await Runner.run(\n",
    "        agent,\n",
    "        \"\"\"\n",
    "        1. What is my current loaction?\n",
    "        2. Any breaking news?\n",
    "        3. What is photosynthesis?\n",
    "        \"\"\", \n",
    "        run_config=config)\n",
    "    \n",
    "    print('='*100)\n",
    "    print(f\"\\nResponse:\\n{result.final_output}\\n\")\n",
    "    print(f\"Responded by: {result.last_agent.name}\\n\")\n",
    "\n",
    "if __name__ == \"__main__\":\n",
    "    asyncio.run(main())"
   ]
  }
 ],
 "metadata": {
  "kernelspec": {
   "display_name": "class1",
   "language": "python",
   "name": "python3"
  },
  "language_info": {
   "codemirror_mode": {
    "name": "ipython",
    "version": 3
   },
   "file_extension": ".py",
   "mimetype": "text/x-python",
   "name": "python",
   "nbconvert_exporter": "python",
   "pygments_lexer": "ipython3",
   "version": "3.12.0"
  }
 },
 "nbformat": 4,
 "nbformat_minor": 5
}
